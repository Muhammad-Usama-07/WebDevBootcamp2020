{
  "nbformat": 4,
  "nbformat_minor": 0,
  "metadata": {
    "colab": {
      "name": "Starting with python Programming.ipynb",
      "provenance": []
    },
    "kernelspec": {
      "display_name": "Python 3",
      "language": "python",
      "name": "python3"
    },
    "language_info": {
      "codemirror_mode": {
        "name": "ipython",
        "version": 3
      },
      "file_extension": ".py",
      "mimetype": "text/x-python",
      "name": "python",
      "nbconvert_exporter": "python",
      "pygments_lexer": "ipython3",
      "version": "3.8.3"
    }
  },
  "cells": [
    {
      "cell_type": "markdown",
      "metadata": {
        "id": "8VVvy6z_ogSs"
      },
      "source": [
        "# Print and its Functions"
      ]
    },
    {
      "cell_type": "code",
      "metadata": {
        "id": "YtQSPzsCogS_"
      },
      "source": [
        "print(\"Welcome python\")"
      ],
      "execution_count": null,
      "outputs": []
    },
    {
      "cell_type": "markdown",
      "metadata": {
        "id": "viJGiN14ogTD"
      },
      "source": [
        "# print with end"
      ]
    },
    {
      "cell_type": "code",
      "metadata": {
        "id": "AeigIjoRogTD"
      },
      "source": [
        "print(\"Hello\", end = \" -  \")\n",
        "print(\"world\")"
      ],
      "execution_count": null,
      "outputs": []
    },
    {
      "cell_type": "code",
      "metadata": {
        "id": "uPFX-Pv9ogTE"
      },
      "source": [
        "print(\"Hello\", end = \" ### \")\n",
        "print(\"world\")"
      ],
      "execution_count": null,
      "outputs": []
    },
    {
      "cell_type": "code",
      "metadata": {
        "id": "mO_8jEFGogTF"
      },
      "source": [
        "print(\"Hello\", end = \"\\n\")\n",
        "print(\"world\")"
      ],
      "execution_count": null,
      "outputs": []
    },
    {
      "cell_type": "markdown",
      "metadata": {
        "id": "Em5OoJQjogTG"
      },
      "source": [
        "# print two string togather"
      ]
    },
    {
      "cell_type": "code",
      "metadata": {
        "id": "KZMwyeAaogTH"
      },
      "source": [
        "print('first String','Second String')"
      ],
      "execution_count": null,
      "outputs": []
    },
    {
      "cell_type": "code",
      "metadata": {
        "id": "R131cnqBogTI"
      },
      "source": [
        "print('first String'+'Second String')"
      ],
      "execution_count": null,
      "outputs": []
    },
    {
      "cell_type": "markdown",
      "metadata": {
        "id": "WQS7CCDPogTI"
      },
      "source": [
        "# print wtith sep"
      ]
    },
    {
      "cell_type": "code",
      "metadata": {
        "id": "Fc6nTHJ5ogTJ"
      },
      "source": [
        "print(\"hello\",\"word\",sep = '....')"
      ],
      "execution_count": null,
      "outputs": []
    },
    {
      "cell_type": "markdown",
      "metadata": {
        "id": "Wdhr4G3lwm_9"
      },
      "source": [
        "# Variables"
      ]
    },
    {
      "cell_type": "code",
      "metadata": {
        "id": "eCy6WkxpogTK"
      },
      "source": [
        "# declearing a variable and passing by value\n",
        "var1 = \"Hello\""
      ],
      "execution_count": null,
      "outputs": []
    },
    {
      "cell_type": "code",
      "metadata": {
        "id": "_WC61wxsogTL"
      },
      "source": [
        "var1"
      ],
      "execution_count": null,
      "outputs": []
    },
    {
      "cell_type": "code",
      "metadata": {
        "id": "eX0_ExdKsEvO"
      },
      "source": [
        "varr2 = var1 # passing by reference\n",
        "print(varr2)"
      ],
      "execution_count": null,
      "outputs": []
    },
    {
      "cell_type": "code",
      "metadata": {
        "id": "8DJm8fXmogTM"
      },
      "source": [
        "# Another way\n",
        "print(var1)"
      ],
      "execution_count": null,
      "outputs": []
    },
    {
      "cell_type": "code",
      "metadata": {
        "id": "8yYvXcsQogTN"
      },
      "source": [
        "# assigning integer value to the variable.\n",
        "var2 = 123"
      ],
      "execution_count": null,
      "outputs": []
    },
    {
      "cell_type": "code",
      "metadata": {
        "id": "L-Aj8HTHogTN"
      },
      "source": [
        "var2"
      ],
      "execution_count": null,
      "outputs": []
    },
    {
      "cell_type": "code",
      "metadata": {
        "id": "RhUBlDQOogTO"
      },
      "source": [
        "#floating variable\n",
        "var3 = 1.234455454\n",
        "var3"
      ],
      "execution_count": null,
      "outputs": []
    },
    {
      "cell_type": "code",
      "metadata": {
        "id": "ImhqwNbLogTP"
      },
      "source": [
        "# Boolean Variable\n",
        "var4 = True\n",
        "var5 = False\n",
        "print(var4,var5)"
      ],
      "execution_count": null,
      "outputs": []
    },
    {
      "cell_type": "code",
      "metadata": {
        "id": "IU2DOnHLogTP"
      },
      "source": [
        "# assigning String value to the variable.\n",
        "var6 = \"this is a string\"\n",
        "var6"
      ],
      "execution_count": null,
      "outputs": []
    },
    {
      "cell_type": "code",
      "metadata": {
        "id": "KO3CWYD0rIbA"
      },
      "source": [
        "id(var6)"
      ],
      "execution_count": null,
      "outputs": []
    },
    {
      "cell_type": "code",
      "metadata": {
        "id": "JHO0b0aSogTQ"
      },
      "source": [
        "# Concatinating two string with no single character space b/w them\n",
        "var7 = \"with second string\"\n",
        "var6+var7"
      ],
      "execution_count": null,
      "outputs": []
    },
    {
      "cell_type": "code",
      "metadata": {
        "id": "JhbBZI3-ogTQ"
      },
      "source": [
        "'''When replacing with comma b/w them\n",
        "it will create single character space b/w the string'''\n",
        "print(var6,var7)"
      ],
      "execution_count": null,
      "outputs": []
    },
    {
      "cell_type": "code",
      "metadata": {
        "id": "R0Xo1c1BogTQ"
      },
      "source": [
        "# Finding type data types of variale.\n",
        "type(var1)\n"
      ],
      "execution_count": null,
      "outputs": []
    },
    {
      "cell_type": "code",
      "metadata": {
        "id": "UVOSDKDtogTR"
      },
      "source": [
        "type(var2)"
      ],
      "execution_count": null,
      "outputs": []
    },
    {
      "cell_type": "code",
      "metadata": {
        "id": "6ThjfTn7ogTR"
      },
      "source": [
        "type(var3)"
      ],
      "execution_count": null,
      "outputs": []
    },
    {
      "cell_type": "code",
      "metadata": {
        "id": "IvNLCdjHogTR"
      },
      "source": [
        "type(var4)"
      ],
      "execution_count": null,
      "outputs": []
    },
    {
      "cell_type": "code",
      "metadata": {
        "id": "L828JxAEogTR"
      },
      "source": [
        "type(var5)"
      ],
      "execution_count": null,
      "outputs": []
    },
    {
      "cell_type": "code",
      "metadata": {
        "id": "QtBNNa2bogTS"
      },
      "source": [
        "type(var6)"
      ],
      "execution_count": null,
      "outputs": []
    },
    {
      "cell_type": "code",
      "metadata": {
        "id": "ctjT2k5irfFY"
      },
      "source": [
        "#finding class of varriable type \n",
        "print(type(var6))"
      ],
      "execution_count": null,
      "outputs": []
    },
    {
      "cell_type": "code",
      "metadata": {
        "id": "EcoVnv1Msf-X"
      },
      "source": [
        "#checking variable equality\n",
        "id(var1)==id(varr2)"
      ],
      "execution_count": null,
      "outputs": []
    },
    {
      "cell_type": "code",
      "metadata": {
        "id": "2l9p4nqJs9GV"
      },
      "source": [
        "# finding index number in the string\n",
        "varrr3 = \"Pakistan\"\n",
        "varrr3.find('s') "
      ],
      "execution_count": null,
      "outputs": []
    },
    {
      "cell_type": "code",
      "metadata": {
        "id": "X-YRS6ONt42W"
      },
      "source": [
        "# finding lenght of variable\n",
        "len(varr3)"
      ],
      "execution_count": null,
      "outputs": []
    },
    {
      "cell_type": "code",
      "metadata": {
        "id": "ry2wKfAnuJ1E"
      },
      "source": [
        "# Concatinating two String\n",
        "name = \"pakistan\"\n",
        "dobyear = 1947\n",
        "\n",
        "print(\"my name is \"+name+\" and my birth year is \"+str(dobyear))"
      ],
      "execution_count": null,
      "outputs": []
    },
    {
      "cell_type": "code",
      "metadata": {
        "id": "SAE9OZc8vS_l"
      },
      "source": [
        ""
      ],
      "execution_count": null,
      "outputs": []
    },
    {
      "cell_type": "markdown",
      "metadata": {
        "id": "vbXOZLSHogTS"
      },
      "source": [
        "# Arrays"
      ]
    },
    {
      "cell_type": "code",
      "metadata": {
        "id": "ydatz4tBogTS"
      },
      "source": [
        "dishes = [\"Biryani\", \"Qourma\", \"meetha\"]\n",
        "dishes\n",
        "\n",
        "# dishes is the array variable and inside the bracket is its elements."
      ],
      "execution_count": null,
      "outputs": []
    },
    {
      "cell_type": "code",
      "metadata": {
        "id": "sdzWNwq-ogTS"
      },
      "source": [
        "# Replacing a Value of element in an array.\n",
        "dishes[0] = \"Qabab\""
      ],
      "execution_count": null,
      "outputs": []
    },
    {
      "cell_type": "code",
      "metadata": {
        "id": "DHSueRBSogTS"
      },
      "source": [
        "# calling a single element. \n",
        "x = dishes[0]\n",
        "x"
      ],
      "execution_count": null,
      "outputs": []
    },
    {
      "cell_type": "code",
      "metadata": {
        "id": "K8qpKRx0ogTT"
      },
      "source": [
        "# Finding lenght of an array.\n",
        "len(dishes)"
      ],
      "execution_count": null,
      "outputs": []
    },
    {
      "cell_type": "code",
      "metadata": {
        "id": "VUJ6VxylogTT"
      },
      "source": [
        "# Adding a new element in an array list.\n",
        "dishes.append(\"kheer\")\n",
        "dishes"
      ],
      "execution_count": null,
      "outputs": []
    },
    {
      "cell_type": "code",
      "metadata": {
        "id": "_GNA-yJCogTT"
      },
      "source": [
        "# Deleting an element in an array by using index number.\n",
        "dishes.pop(2)\n",
        "dishes"
      ],
      "execution_count": null,
      "outputs": []
    },
    {
      "cell_type": "code",
      "metadata": {
        "id": "ZTCB8xOFogTT"
      },
      "source": [
        "# Deleting an element in an array by using element name.\n",
        "dishes.remove(\"kheer\")\n",
        "dishes"
      ],
      "execution_count": null,
      "outputs": []
    },
    {
      "cell_type": "code",
      "metadata": {
        "id": "hrtODQgsogTU"
      },
      "source": [
        "dishes"
      ],
      "execution_count": null,
      "outputs": []
    },
    {
      "cell_type": "code",
      "metadata": {
        "id": "Qql9gsSgogTU"
      },
      "source": [
        "# Making new list by copying element form the old list.\n",
        "x = dishes.copy()\n",
        "x"
      ],
      "execution_count": null,
      "outputs": []
    },
    {
      "cell_type": "code",
      "metadata": {
        "id": "twW9-Wa3ogTU"
      },
      "source": [
        "# Clear all element from of the list.\n",
        "x.clear()"
      ],
      "execution_count": null,
      "outputs": []
    },
    {
      "cell_type": "code",
      "metadata": {
        "id": "Q0iaDB6jogTU"
      },
      "source": [
        "x"
      ],
      "execution_count": null,
      "outputs": []
    },
    {
      "cell_type": "code",
      "metadata": {
        "id": "HQbjwo7BogTU"
      },
      "source": [
        "int_list = (1,2,3,4)\n",
        "int_list"
      ],
      "execution_count": null,
      "outputs": []
    },
    {
      "cell_type": "code",
      "metadata": {
        "id": "0dtmyOhGogTV"
      },
      "source": [
        "# Adding new list to the old list(by adding separate elemnets).\n",
        "dishes.extend(int_list)"
      ],
      "execution_count": null,
      "outputs": []
    },
    {
      "cell_type": "code",
      "metadata": {
        "id": "8W0iw_iEogTV"
      },
      "source": [
        "dishes"
      ],
      "execution_count": null,
      "outputs": []
    },
    {
      "cell_type": "code",
      "metadata": {
        "id": "FUP8FqUuogTV"
      },
      "source": [
        "# Adding a new element into the list with specific index.\n",
        "dishes.insert(1,\"Chicken biryani\")"
      ],
      "execution_count": null,
      "outputs": []
    },
    {
      "cell_type": "code",
      "metadata": {
        "id": "livCSH_QogTV"
      },
      "source": [
        "dishes"
      ],
      "execution_count": null,
      "outputs": []
    },
    {
      "cell_type": "code",
      "metadata": {
        "id": "WGP5_tlwogTV"
      },
      "source": [
        "# Reversing a list\n",
        "dishes.reverse()"
      ],
      "execution_count": null,
      "outputs": []
    },
    {
      "cell_type": "code",
      "metadata": {
        "id": "-TvtkPTbogTV"
      },
      "source": [
        "dishes"
      ],
      "execution_count": null,
      "outputs": []
    },
    {
      "cell_type": "code",
      "metadata": {
        "id": "WiLV1hecogTW"
      },
      "source": [
        "# Another way of removing element.\n",
        "del dishes[0]\n",
        "dishes"
      ],
      "execution_count": null,
      "outputs": []
    },
    {
      "cell_type": "code",
      "metadata": {
        "id": "LDJaCIOlogTW"
      },
      "source": [
        "# first Way of joining two list.\n",
        "list2 = [1,2,3,4]\n",
        "list3 = list2 + dishes\n",
        "print(list3)"
      ],
      "execution_count": null,
      "outputs": []
    },
    {
      "cell_type": "code",
      "metadata": {
        "id": "JL51tXqEqp7R"
      },
      "source": [
        ""
      ],
      "execution_count": null,
      "outputs": []
    },
    {
      "cell_type": "markdown",
      "metadata": {
        "id": "mZgJtBufogTW"
      },
      "source": [
        "# Tuples"
      ]
    },
    {
      "cell_type": "markdown",
      "metadata": {
        "id": "ggM1BnaqogTW"
      },
      "source": [
        ""
      ]
    },
    {
      "cell_type": "code",
      "metadata": {
        "id": "Cugmuw1togTW"
      },
      "source": [
        "tuple1 = (1,2,3)\n",
        "print(tuple1)"
      ],
      "execution_count": null,
      "outputs": []
    },
    {
      "cell_type": "code",
      "metadata": {
        "id": "Fi8ihjPdogTX"
      },
      "source": [
        "tuple2 = (\"A\",\"B\",\"C\")\n",
        "tuple2"
      ],
      "execution_count": null,
      "outputs": []
    },
    {
      "cell_type": "code",
      "metadata": {
        "id": "9eVyP07vLgLj"
      },
      "source": [
        "type(tuple1)"
      ],
      "execution_count": null,
      "outputs": []
    },
    {
      "cell_type": "code",
      "metadata": {
        "id": "2tvgJusaLr4b"
      },
      "source": [
        "# convert list to tuple\n",
        "list_to_tuple = list(tuple1)\n",
        "list_to_tuple "
      ],
      "execution_count": null,
      "outputs": []
    },
    {
      "cell_type": "markdown",
      "metadata": {
        "id": "kY8f4TqxogTX"
      },
      "source": [
        "## Set\n",
        "A set is a collection which is unordered and unindexed"
      ]
    },
    {
      "cell_type": "code",
      "metadata": {
        "id": "Ar4GqFaaogTX"
      },
      "source": [
        "varset = {\"how\", \"are\", \"you\"}\n",
        "print(varset)"
      ],
      "execution_count": null,
      "outputs": []
    },
    {
      "cell_type": "code",
      "metadata": {
        "id": "hm9vBqYvogTX"
      },
      "source": [
        "# Checking condition.\n",
        "print(\"are\" in  varset)"
      ],
      "execution_count": null,
      "outputs": []
    },
    {
      "cell_type": "code",
      "metadata": {
        "id": "2aHJM6c2ogTX"
      },
      "source": [
        "# Adding an item in the set.\n",
        "\n",
        "varset.add(\"world\")"
      ],
      "execution_count": null,
      "outputs": []
    },
    {
      "cell_type": "code",
      "metadata": {
        "id": "nL-JxjL3ogTY"
      },
      "source": [
        "varset"
      ],
      "execution_count": null,
      "outputs": []
    },
    {
      "cell_type": "code",
      "metadata": {
        "id": "LNYMiZL0ogTY"
      },
      "source": [
        "# Add multiple items to a set\n",
        "\n",
        "varset.update([\"I\",\"am\",\"fine\"])\n",
        "varset"
      ],
      "execution_count": null,
      "outputs": []
    },
    {
      "cell_type": "code",
      "metadata": {
        "id": "cBnZL7HWogTY"
      },
      "source": [
        "# Removing item in the set.\n",
        "\"\"\"varset.remove(\"are\")\n",
        "varset\"\"\"\n",
        "# set does'nt support remove function."
      ],
      "execution_count": null,
      "outputs": []
    },
    {
      "cell_type": "code",
      "metadata": {
        "id": "q6hDYyMhogTY"
      },
      "source": [
        "varset.discard(\"are\")\n",
        "varset"
      ],
      "execution_count": null,
      "outputs": []
    },
    {
      "cell_type": "markdown",
      "metadata": {
        "id": "5G1hzFrDogTY"
      },
      "source": [
        "# Dictionary\n",
        "A dictionary is a collection which is unordered, changeable and indexed.\n",
        "In Python dictionaries are written with curly brackets, and they have keys and values."
      ]
    },
    {
      "cell_type": "code",
      "metadata": {
        "id": "LLHMlnzBogTZ"
      },
      "source": [
        "dict1 = {\"key\": \"Locker\", \"fruit\":\"apple\", \"mango\": \"Chausa\"}\n",
        "dict1"
      ],
      "execution_count": null,
      "outputs": []
    },
    {
      "cell_type": "code",
      "metadata": {
        "id": "eYpIGL8togTZ"
      },
      "source": [
        "x = dict1[\"key\"]\n",
        "x"
      ],
      "execution_count": null,
      "outputs": []
    },
    {
      "cell_type": "code",
      "metadata": {
        "id": "CWjGJsfcogTZ"
      },
      "source": [
        "x = dict1.get(\"key\")\n",
        "x"
      ],
      "execution_count": null,
      "outputs": []
    },
    {
      "cell_type": "code",
      "metadata": {
        "id": "6v6FPO-cogTZ"
      },
      "source": [
        "#Another way of creating dictionaries.\n",
        "dict2 = dict(brand=\"Ford\", model=\"Mustang\", year=1964)\n",
        "dict2"
      ],
      "execution_count": null,
      "outputs": []
    },
    {
      "cell_type": "code",
      "metadata": {
        "id": "PCcdrv76ogTa"
      },
      "source": [
        "# Assigning different value to the key.\n",
        "dict1[\"fruit\"] = \"Orange\""
      ],
      "execution_count": null,
      "outputs": []
    },
    {
      "cell_type": "code",
      "metadata": {
        "id": "UoYba389ogTa"
      },
      "source": [
        "dict1"
      ],
      "execution_count": null,
      "outputs": []
    },
    {
      "cell_type": "code",
      "metadata": {
        "id": "eDGswgqjogTa"
      },
      "source": [
        "# Adding item in the dictionary.\n",
        "dict1"
      ],
      "execution_count": null,
      "outputs": []
    },
    {
      "cell_type": "code",
      "metadata": {
        "id": "MIBFczYKogTa"
      },
      "source": [
        "dict1[\"colour\"] = \"Red\""
      ],
      "execution_count": null,
      "outputs": []
    },
    {
      "cell_type": "code",
      "metadata": {
        "id": "38iRoujpogTa"
      },
      "source": [
        "dict1"
      ],
      "execution_count": null,
      "outputs": []
    },
    {
      "cell_type": "code",
      "metadata": {
        "id": "I9f1vbUPogTa"
      },
      "source": [
        "# Removing item with the specific key name in the dictionary.\n",
        "dict1.pop(\"key\")"
      ],
      "execution_count": null,
      "outputs": []
    },
    {
      "cell_type": "code",
      "metadata": {
        "id": "owCIUgxDogTb"
      },
      "source": [
        "dict1\n",
        "# Another wayof removing item by del keyword."
      ],
      "execution_count": null,
      "outputs": []
    },
    {
      "cell_type": "markdown",
      "metadata": {
        "id": "RSqRzPx0ogTb"
      },
      "source": [
        "### Nested dictionary"
      ]
    },
    {
      "cell_type": "code",
      "metadata": {
        "id": "IRy1LW-hogTb"
      },
      "source": [
        "Courses = {\n",
        "  \"course1\" : {\n",
        "    \"name\" : \"OS\",\n",
        "    \"year\" : 2019\n",
        "  },\n",
        "  \"course2\" : {\n",
        "    \"name\" : \"WE\",\n",
        "    \"year\" : 2019\n",
        "  },\n",
        "  \"course3\" : {\n",
        "    \"name\" : \"DBMS\",\n",
        "    \"year\" : 2019\n",
        "  }\n",
        "}\n",
        "Courses"
      ],
      "execution_count": null,
      "outputs": []
    },
    {
      "cell_type": "code",
      "metadata": {
        "id": "_w_OtbdvogTb"
      },
      "source": [
        "# Another way of nesting a dictionaries.\n",
        "course1 = {\n",
        "    \"name\" : \"OS\",\n",
        "    \"year\" : 2019\n",
        "  }\n",
        "course2 = {\n",
        "    \"name\" : \"WE\",\n",
        "    \"year\" : 2019\n",
        "  }\n",
        "course3 = {\n",
        "    \"name\" : \"DBMS\",\n",
        "    \"year\" : 2019\n",
        "  }\n",
        "Course = {\n",
        "    \"mycourse1\": course1,\n",
        "    \"mycourse2\": course2,\n",
        "}\n",
        "Course"
      ],
      "execution_count": null,
      "outputs": []
    },
    {
      "cell_type": "markdown",
      "metadata": {
        "id": "aI20-HRXogTc"
      },
      "source": [
        "# (Conditions)"
      ]
    },
    {
      "cell_type": "markdown",
      "metadata": {
        "id": "f4gYiHy1ogTc"
      },
      "source": [
        "### if else"
      ]
    },
    {
      "cell_type": "code",
      "metadata": {
        "id": "nPaBjEcWogTc"
      },
      "source": [
        "a = 55\n",
        "b = 44\n",
        "if b < a:\n",
        "    print(\"a is greater than  b\")\n",
        "else:\n",
        "    print(\"b is greater than a\")"
      ],
      "execution_count": null,
      "outputs": []
    },
    {
      "cell_type": "markdown",
      "metadata": {
        "id": "9LBUZR_3ogTc"
      },
      "source": [
        "### Elif"
      ]
    },
    {
      "cell_type": "code",
      "metadata": {
        "id": "lXu-hm8kogTc"
      },
      "source": [
        "a = 65\n",
        "b = 78\n",
        "if a > b:\n",
        "    print(\"a is greater than b \")\n",
        "elif b > a:\n",
        "    print(\"b is greater than a \")\n",
        "else:\n",
        "    print(\"Nothing to show u\")"
      ],
      "execution_count": null,
      "outputs": []
    },
    {
      "cell_type": "markdown",
      "metadata": {
        "id": "B4TIbP5_ogTc"
      },
      "source": [
        "### short cut if else"
      ]
    },
    {
      "cell_type": "code",
      "metadata": {
        "id": "xhIPKZK7ogTd"
      },
      "source": [
        "a = 3\n",
        "b = 2\n",
        "print(\"a is greater than b \") if a > b else print(\"b is greater than a \")"
      ],
      "execution_count": null,
      "outputs": []
    },
    {
      "cell_type": "markdown",
      "metadata": {
        "id": "1_jeHfxAogTd"
      },
      "source": [
        "### short Three condition at an time"
      ]
    },
    {
      "cell_type": "code",
      "metadata": {
        "id": "bwFRBSmsogTd"
      },
      "source": [
        "a = 330\n",
        "b = 330\n",
        "#(first condition)  (---second condition---)  (third condition)       \n",
        "print(\"A\") if a > b else print(\"=\") if a == b else print(\"B\")"
      ],
      "execution_count": null,
      "outputs": []
    },
    {
      "cell_type": "markdown",
      "metadata": {
        "id": "PtUJgcRzogTd"
      },
      "source": [
        "### And"
      ]
    },
    {
      "cell_type": "code",
      "metadata": {
        "id": "sWbI8hR8ogTd"
      },
      "source": [
        "a = 1\n",
        "b = 2\n",
        "c = 3\n",
        "if c > b and b > a:\n",
        "    print(\"Condition satisfied\")\n",
        "else:\n",
        "    print(\"Not satisfied\")"
      ],
      "execution_count": null,
      "outputs": []
    },
    {
      "cell_type": "markdown",
      "metadata": {
        "id": "Ho2uSnSRogTe"
      },
      "source": [
        "### Or"
      ]
    },
    {
      "cell_type": "code",
      "metadata": {
        "id": "kE7bIQcCogTe"
      },
      "source": [
        "a = 1\n",
        "b = 2\n",
        "c = 3\n",
        "if c > b or b > a or c > a:\n",
        "    print(\"Condition satisfied\")\n",
        "else:\n",
        "    print(\"Not satisfied\")"
      ],
      "execution_count": null,
      "outputs": []
    },
    {
      "cell_type": "markdown",
      "metadata": {
        "id": "hMyWT2-IogTe"
      },
      "source": [
        "## Nested if-else"
      ]
    },
    {
      "cell_type": "code",
      "metadata": {
        "id": "9AZRnhEuogTe"
      },
      "source": [
        "a = 100\n",
        "if a > 40:\n",
        "    if a > 90:\n",
        "        print(a)\n",
        "else:\n",
        "    print(\"a is not valid\")\n"
      ],
      "execution_count": null,
      "outputs": []
    },
    {
      "cell_type": "markdown",
      "metadata": {
        "id": "yPdmOnX2ogTe"
      },
      "source": [
        "# while loop"
      ]
    },
    {
      "cell_type": "code",
      "metadata": {
        "id": "ahas61W7ogTf"
      },
      "source": [
        "# Generating number from 1-10 using while loop.\n",
        "i = 1\n",
        "while i < 11:\n",
        "    print(i)\n",
        "    i+= 1"
      ],
      "execution_count": null,
      "outputs": []
    },
    {
      "cell_type": "code",
      "metadata": {
        "id": "4ers-mhSogTf"
      },
      "source": [
        "# Using break staement in while loop.\n",
        "i = 1\n",
        "while i < 11:\n",
        "    i+= 1\n",
        "    if i == 5:\n",
        "        break\n",
        "    print(i)"
      ],
      "execution_count": null,
      "outputs": []
    },
    {
      "cell_type": "code",
      "metadata": {
        "id": "yo75IZrqogTf"
      },
      "source": [
        "# Using continue staement in while loop.\n",
        "i = 1\n",
        "while i < 11:\n",
        "    i+= 1\n",
        "    if i == 5:\n",
        "        continue\n",
        "    print(i)"
      ],
      "execution_count": null,
      "outputs": []
    },
    {
      "cell_type": "markdown",
      "metadata": {
        "id": "cgKd6JrGogTg"
      },
      "source": [
        "# For Loop"
      ]
    },
    {
      "cell_type": "code",
      "metadata": {
        "id": "TvKk2RlYw0JB"
      },
      "source": [
        "#working with basic loop\n",
        "\n",
        "for a in range(5):\n",
        "  #indent\n",
        "  print(a, \"Usama\")"
      ],
      "execution_count": null,
      "outputs": []
    },
    {
      "cell_type": "code",
      "metadata": {
        "id": "LHC1SseHxpNR"
      },
      "source": [
        "#printing single charaacter fromstrijg\n",
        "for char in \"pakistanzindabad\":\n",
        "  print(char.upper())"
      ],
      "execution_count": null,
      "outputs": []
    },
    {
      "cell_type": "code",
      "metadata": {
        "id": "ByCRG12cyGwJ"
      },
      "source": [
        "#printing single charaacter fromstrijg\n",
        "for char in \"pakistanzindabad\":\n",
        "  print(char.upper(), end=\"\")"
      ],
      "execution_count": null,
      "outputs": []
    },
    {
      "cell_type": "code",
      "metadata": {
        "id": "zAQQqN4UyJc5"
      },
      "source": [
        "# printing list from loop.\n",
        "for student in [\"usama\", \"rameez\", \"ali\", \"ather\"]:\n",
        "  print(f\"the name of the stuidnetg is {student}\")"
      ],
      "execution_count": null,
      "outputs": []
    },
    {
      "cell_type": "code",
      "metadata": {
        "id": "CMqsuY-syp9Y"
      },
      "source": [
        "# printing form specefic range\n",
        "for num in range(1,10):\n",
        "  print(num)"
      ],
      "execution_count": null,
      "outputs": []
    },
    {
      "cell_type": "code",
      "metadata": {
        "id": "o5Kr-49Py1cw"
      },
      "source": [
        "# printing number form specefic range with step\n",
        "for num in range(1,10,2):\n",
        "  print(num)"
      ],
      "execution_count": null,
      "outputs": []
    },
    {
      "cell_type": "code",
      "metadata": {
        "id": "4u3ciAFAzE-g"
      },
      "source": [
        "# printing number form specefic range with step in reverse order\n",
        "for num in range(10,0,-1):\n",
        "  print(num)"
      ],
      "execution_count": null,
      "outputs": []
    },
    {
      "cell_type": "code",
      "metadata": {
        "id": "sFiR5OE8zlUn"
      },
      "source": [
        "# printing nam eiht other string\n",
        "student_list  = [\"usama\", \"rameez\", \"ali\", \"ather\"]\n"
      ],
      "execution_count": null,
      "outputs": []
    },
    {
      "cell_type": "code",
      "metadata": {
        "id": "3rXQzcwDzU2m"
      },
      "source": [
        "for i in student_list:\n",
        "  print(i, \"pakistani\")"
      ],
      "execution_count": null,
      "outputs": []
    },
    {
      "cell_type": "code",
      "metadata": {
        "id": "8k1tERXH2cAu"
      },
      "source": [
        ""
      ],
      "execution_count": null,
      "outputs": []
    },
    {
      "cell_type": "code",
      "metadata": {
        "id": "orzcDcJF09_m"
      },
      "source": [
        "emptylist = []\n",
        "for i in student_list:\n",
        "  emptylist.append(f\"{i} pakistani\")"
      ],
      "execution_count": null,
      "outputs": []
    },
    {
      "cell_type": "code",
      "metadata": {
        "id": "L8N6tPHU2EQt"
      },
      "source": [
        "print(emptylist)"
      ],
      "execution_count": null,
      "outputs": []
    },
    {
      "cell_type": "code",
      "metadata": {
        "id": "oR0hiKOA3q-c"
      },
      "source": [
        "#changing string data\n",
        "for num in range(len(student_list)):\n",
        "  student_list[num] = student_list[num] + \" pakistani\"\n",
        "student_list"
      ],
      "execution_count": null,
      "outputs": []
    },
    {
      "cell_type": "code",
      "metadata": {
        "id": "nFCFEGw74knr"
      },
      "source": [
        ""
      ],
      "execution_count": null,
      "outputs": []
    },
    {
      "cell_type": "code",
      "metadata": {
        "id": "2MuW1332xj6o"
      },
      "source": [
        "# here  we have list,set, and dictionary\n",
        "#list3,varset,dict1"
      ],
      "execution_count": null,
      "outputs": []
    },
    {
      "cell_type": "code",
      "metadata": {
        "id": "xi9DbcQlogTg"
      },
      "source": [
        "     # set   ,list, dictionary \n",
        "print(varset ,list3,  dict1)"
      ],
      "execution_count": null,
      "outputs": []
    },
    {
      "cell_type": "code",
      "metadata": {
        "id": "wlbW6J4XogTg"
      },
      "source": [
        "# Applying for loop to list.\n",
        "for i in list3:\n",
        "    print(i)"
      ],
      "execution_count": null,
      "outputs": []
    },
    {
      "cell_type": "code",
      "metadata": {
        "id": "r5a8N3ZQogTg"
      },
      "source": [
        "# Applying for loop to set.\n",
        "for i in varset:\n",
        "    print(i)"
      ],
      "execution_count": null,
      "outputs": []
    },
    {
      "cell_type": "code",
      "metadata": {
        "id": "aOcmtTdLogTh"
      },
      "source": [
        "# Applying for loop to dictionary(will print only keys).\n",
        "for i in dict1:\n",
        "    print(i)"
      ],
      "execution_count": null,
      "outputs": []
    },
    {
      "cell_type": "code",
      "metadata": {
        "id": "v8aL4IabogTh"
      },
      "source": [
        "# For accessing values of key (using for loop).\n",
        "for i in dict1.values():\n",
        "    print(i)"
      ],
      "execution_count": null,
      "outputs": []
    },
    {
      "cell_type": "code",
      "metadata": {
        "id": "VbWYxwjiogTh"
      },
      "source": [
        "# For accessing both keys and values of dictionary(using for loop).\n",
        "for k,v in dict1.items():\n",
        "    print(k,v)"
      ],
      "execution_count": null,
      "outputs": []
    },
    {
      "cell_type": "code",
      "metadata": {
        "id": "koCYm5qKogTh"
      },
      "source": [
        "\n",
        "varset"
      ],
      "execution_count": null,
      "outputs": []
    },
    {
      "cell_type": "code",
      "metadata": {
        "id": "j6S_BW7fogTi"
      },
      "source": [
        "# using break statement in for loop.\n",
        "for i in varset:\n",
        "    \n",
        "    if i == \"how\":\n",
        "        break\n",
        "    print(i)"
      ],
      "execution_count": null,
      "outputs": []
    },
    {
      "cell_type": "code",
      "metadata": {
        "id": "3jzGAr4kogTi"
      },
      "source": [
        "# Using continue statement in for loop.\n",
        "for i in varset:\n",
        "    if i == \"how\":\n",
        "        continue\n",
        "    print(i)\n",
        "# it prints all elements except \"how\"."
      ],
      "execution_count": null,
      "outputs": []
    },
    {
      "cell_type": "code",
      "metadata": {
        "id": "MhLgtTrGxrL5"
      },
      "source": [
        "#Write a program which will find all such numbers which are divisible by 7 but are not a multiple of 5,\n",
        "#between 2000 and 3200 (both included).\n",
        "#The numbers obtained should be printed in a comma-separated sequence on a single line.\n",
        "\n",
        "for num in range(2000, 3201):\n",
        "  if(num%7 == 0):\n",
        "    if(num%5 != 0):\n",
        "      print(num, end=',')\n"
      ],
      "execution_count": null,
      "outputs": []
    },
    {
      "cell_type": "markdown",
      "metadata": {
        "id": "urJorn4aogTi"
      },
      "source": [
        "### range() function in for loop."
      ]
    },
    {
      "cell_type": "code",
      "metadata": {
        "id": "tprWf6uSogTj"
      },
      "source": [
        "for x in range(5):\n",
        "    print(x)"
      ],
      "execution_count": null,
      "outputs": []
    },
    {
      "cell_type": "code",
      "metadata": {
        "id": "6O6tgHvUogTj"
      },
      "source": [
        "# By assigning starting number to the range function.\n",
        "for x in range(2,10):\n",
        "    print(x)"
      ],
      "execution_count": null,
      "outputs": []
    },
    {
      "cell_type": "code",
      "metadata": {
        "id": "uctMbvdMogTj"
      },
      "source": [
        "# Incrementing in the sequence with 1.\n",
        "for x in range(2,10,2):\n",
        "    print(x)"
      ],
      "execution_count": null,
      "outputs": []
    },
    {
      "cell_type": "markdown",
      "metadata": {
        "id": "Y4yBcBPNogTj"
      },
      "source": [
        "### Using nested loop."
      ]
    },
    {
      "cell_type": "code",
      "metadata": {
        "id": "ov4nIpN0ogTj"
      },
      "source": [
        "lis1 = ['a','b','c','d']\n",
        "lis2 = [1,2,3,4]\n",
        "for i in lis1:\n",
        "    for j in lis2:\n",
        "        print(i,j)"
      ],
      "execution_count": null,
      "outputs": []
    },
    {
      "cell_type": "markdown",
      "metadata": {
        "id": "MWkkoxiGogTk"
      },
      "source": [
        "# Function in python"
      ]
    },
    {
      "cell_type": "code",
      "metadata": {
        "id": "7yz0NDhRogTk"
      },
      "source": [
        "def function1():\n",
        "    print(\"This is my first function\")\n",
        "function1()"
      ],
      "execution_count": null,
      "outputs": []
    },
    {
      "cell_type": "code",
      "metadata": {
        "id": "12b3Uml_h7yl"
      },
      "source": [
        "#function defininion\n",
        "def call():\n",
        "  name = input(\"Enter Your name: \")\n",
        "  print(f\"Welcome {name}\")"
      ],
      "execution_count": null,
      "outputs": []
    },
    {
      "cell_type": "code",
      "metadata": {
        "id": "TmHqpPmMiWDr"
      },
      "source": [
        "call()"
      ],
      "execution_count": null,
      "outputs": []
    },
    {
      "cell_type": "code",
      "metadata": {
        "id": "KnIHXufkjNWc"
      },
      "source": [
        "#function defininion\n",
        "def call():\n",
        "  name = input(\"Enter Your name: \")\n",
        "  gender = input(\"Enter gender:\").lower()\n",
        "  if(gender == 'male'):\n",
        "    print(f\"Welcome Mr. {name}\")\n",
        "  else:\n",
        "    print(f\"Welcome Ms. {name}\")"
      ],
      "execution_count": null,
      "outputs": []
    },
    {
      "cell_type": "code",
      "metadata": {
        "id": "9_xMwAaXj7N8"
      },
      "source": [
        "call()"
      ],
      "execution_count": null,
      "outputs": []
    },
    {
      "cell_type": "code",
      "metadata": {
        "id": "r2LR5coEkqFf"
      },
      "source": [
        "#trick 01\n",
        "list1 = []\n",
        "def even_odd_func():\n",
        "  num1 = 0\n",
        "  flag = True\n",
        "  while(flag):\n",
        "    num = input(\"Enter number/ write 'q' to exit\")\n",
        "    list1.append(num)\n",
        "    if(num == 'q'):\n",
        "      if(int(list1[-2]) % 2 == 0):\n",
        "        print(\"your number is even\")\n",
        "      else :\n",
        "        print(\"your number is odd\")  \n",
        "      flag = False\n"
      ],
      "execution_count": null,
      "outputs": []
    },
    {
      "cell_type": "code",
      "metadata": {
        "id": "SOjPhwFck8T4"
      },
      "source": [
        "even_odd_func()"
      ],
      "execution_count": null,
      "outputs": []
    },
    {
      "cell_type": "code",
      "metadata": {
        "id": "CYDrgO5fuN5W"
      },
      "source": [
        "#trick 02\n",
        "def even_odd_func():\n",
        "  while(True):\n",
        "    num = input(\"Enter number/ write 'q' to exit\")\n",
        "    if(num != 'q'):\n",
        "      if(int(num) % 2 == 0):\n",
        "        print(\"your number is even\")\n",
        "      else :\n",
        "        print(\"your number is odd\")  \n",
        "    else:\n",
        "      break\n"
      ],
      "execution_count": null,
      "outputs": []
    },
    {
      "cell_type": "code",
      "metadata": {
        "id": "3_yrVn-Iufsd"
      },
      "source": [
        "even_odd_func()"
      ],
      "execution_count": null,
      "outputs": []
    },
    {
      "cell_type": "code",
      "metadata": {
        "id": "wRu8b_jMu08x"
      },
      "source": [
        ""
      ],
      "execution_count": null,
      "outputs": []
    },
    {
      "cell_type": "code",
      "metadata": {
        "id": "KdqcRHsXogTk"
      },
      "source": [
        "# Parametric function.\n",
        "def function2(var):\n",
        "    print(var)\n",
        "function2(\"This is the second function\")\n",
        "function2(\"And it is a parametric function.\")"
      ],
      "execution_count": null,
      "outputs": []
    },
    {
      "cell_type": "code",
      "metadata": {
        "id": "dV0texmOogTk"
      },
      "source": [
        "# Taking multiple argument to the function.\n",
        "def function3(name_var, your_name):\n",
        "    print(name_var + \": \" + your_name)\n",
        "function3(\"Name\",\"Jack\")\n",
        "function3(\"Father Name\",\"Jonson\")"
      ],
      "execution_count": null,
      "outputs": []
    },
    {
      "cell_type": "markdown",
      "metadata": {
        "id": "FNB45QWGogTl"
      },
      "source": [
        "# Arbitrary Arguments, *args\n",
        "\n",
        "If you do not know how many arguments that will be passed into your function, add a * before the parameter name in the function definition.\n",
        "\n",
        "This way the function will receive a tuple of arguments, and can access the items accordingly:"
      ]
    },
    {
      "cell_type": "code",
      "metadata": {
        "id": "iSaC08b9ogTl"
      },
      "source": [
        "def function4(*var):\n",
        "        print(var, end = '')\n",
        "function4(\"orange\", \"mango\")"
      ],
      "execution_count": null,
      "outputs": []
    },
    {
      "cell_type": "markdown",
      "metadata": {
        "id": "456-w5EpogTl"
      },
      "source": [
        "## Default parameter value."
      ]
    },
    {
      "cell_type": "code",
      "metadata": {
        "id": "cVnC_roiogTl"
      },
      "source": [
        "def func(var = \"newyork\"):\n",
        "    print(\"You are in\",var)\n",
        "func()\n",
        "func(\"london\")\n",
        "func(\"paris\")"
      ],
      "execution_count": null,
      "outputs": []
    },
    {
      "cell_type": "markdown",
      "metadata": {
        "id": "xHTVtAuvogTl"
      },
      "source": [
        "## Passing a List as an Argument"
      ]
    },
    {
      "cell_type": "code",
      "metadata": {
        "id": "NUeijXnqogTl"
      },
      "source": [
        "\n",
        "def my_function(food):\n",
        "    for x in food:\n",
        "        print(x)\n",
        "\n",
        "fruits = [\"apple\", \"banana\", \"cherry\"]\n",
        "\n",
        "my_function(fruits)"
      ],
      "execution_count": null,
      "outputs": []
    },
    {
      "cell_type": "markdown",
      "metadata": {
        "id": "A5wjEVfLogTm"
      },
      "source": [
        "## Using return keword to return value."
      ]
    },
    {
      "cell_type": "code",
      "metadata": {
        "id": "sHr3geYgogTm"
      },
      "source": [
        "# Function that return the square of number.\n",
        "def retun(x):\n",
        "    return x*x\n",
        "var = 3\n",
        "print(\"The square of\",var,\"is\",retun(var))"
      ],
      "execution_count": null,
      "outputs": []
    },
    {
      "cell_type": "markdown",
      "metadata": {
        "id": "m9ITm0QJogTm"
      },
      "source": [
        "## Recursion function"
      ]
    },
    {
      "cell_type": "code",
      "metadata": {
        "id": "01TiiSrZogTm"
      },
      "source": [
        "def tri_recursion(k):\n",
        "    if(k>0):\n",
        "        result = k+tri_recursion(k-1)\n",
        "        print(result)\n",
        "    else:\n",
        "        result = 0\n",
        "    return result\n",
        "\n",
        "print(\"\\n\\nRecursion Example Results\")\n",
        "tri_recursion(6)"
      ],
      "execution_count": null,
      "outputs": []
    },
    {
      "cell_type": "markdown",
      "metadata": {
        "id": "BzyH1gdYogTm"
      },
      "source": [
        "# Classes & Objects"
      ]
    },
    {
      "cell_type": "code",
      "metadata": {
        "id": "kWytAoFwogTm",
        "colab": {
          "base_uri": "https://localhost:8080/"
        },
        "outputId": "eed35177-bf16-4f37-ef2a-9c5e7a99af7f"
      },
      "source": [
        "class first:\n",
        "    x = 5\n",
        "\n",
        "obj = first()\n",
        "print(obj.x)"
      ],
      "execution_count": null,
      "outputs": [
        {
          "output_type": "stream",
          "text": [
            "5\n"
          ],
          "name": "stdout"
        }
      ]
    },
    {
      "cell_type": "markdown",
      "metadata": {
        "id": "mu3IpCGrogTn"
      },
      "source": [
        "### Working with constructor of class and creating varaible"
      ]
    },
    {
      "cell_type": "code",
      "metadata": {
        "id": "K2jLqddwogTn",
        "colab": {
          "base_uri": "https://localhost:8080/"
        },
        "outputId": "747f562b-cc0c-4405-b71c-0e10073f86aa"
      },
      "source": [
        "class fruit:\n",
        "    def __init__(self, fname, catagory):\n",
        "        self.fname = fname\n",
        "        self.catagory = catagory\n",
        "obj1 = fruit(\"Orange\", \"Citrus\")\n",
        "print(obj1.fname, \"is the\", obj1.catagory, \"catagory\")"
      ],
      "execution_count": null,
      "outputs": [
        {
          "output_type": "stream",
          "text": [
            "Orange is the Citrus catagory\n"
          ],
          "name": "stdout"
        }
      ]
    },
    {
      "cell_type": "markdown",
      "metadata": {
        "id": "uqty68eVogTn"
      },
      "source": [
        "### Creating Method "
      ]
    },
    {
      "cell_type": "code",
      "metadata": {
        "id": "RuvJqKpYogTn",
        "colab": {
          "base_uri": "https://localhost:8080/"
        },
        "outputId": "ddc3bb0e-1919-4868-b260-2a1045fa6e18"
      },
      "source": [
        "class fruit:\n",
        "    def __init__(self, fname, catagory):\n",
        "        self.fname = fname\n",
        "        self.catagory = catagory\n",
        "    def func1(self):\n",
        "        print(\"your fruit is\"+self.fname)\n",
        "        \n",
        "obj2 = fruit(\"Orange\", \"Citrus\")\n",
        "print(obj2.func1())"
      ],
      "execution_count": null,
      "outputs": [
        {
          "output_type": "stream",
          "text": [
            "your fruit isOrange\n",
            "None\n"
          ],
          "name": "stdout"
        }
      ]
    },
    {
      "cell_type": "code",
      "metadata": {
        "id": "gy3Vk7WuKNWQ"
      },
      "source": [
        "class Car:\r\n",
        "  def __init__(self, make, model, year):\r\n",
        "    \"\"\"Initialize attributes to describe a car.\"\"\"\r\n",
        "    self.make = make\r\n",
        "    self.model = model\r\n",
        "    self.year = year\r\n",
        "    self.odometer_reading = 0\r\n",
        "  def get_descriptive_name(self):\r\n",
        "    long_name = str(self.year) + ' ' + self.make + self.model\r\n",
        "    return long_name.title()\r\n",
        "  def set_odometer_reading(self,mileage):\r\n",
        "    self.odometer_reading = mileage\r\n",
        "  def read_odometer(self):\r\n",
        "    print(\"This car has \" + str(self.odometer_reading) + \" miles on it.\")"
      ],
      "execution_count": 13,
      "outputs": []
    },
    {
      "cell_type": "code",
      "metadata": {
        "id": "rnXsBLxEKxkH"
      },
      "source": [
        "car1 = Car('Honda', 'cd70', 2010)"
      ],
      "execution_count": 14,
      "outputs": []
    },
    {
      "cell_type": "code",
      "metadata": {
        "colab": {
          "base_uri": "https://localhost:8080/"
        },
        "id": "6KntIJKYK9TE",
        "outputId": "ebcf50f7-9a7b-4812-837a-6e86b78efeb1"
      },
      "source": [
        "car1.read_odometer()"
      ],
      "execution_count": 15,
      "outputs": [
        {
          "output_type": "stream",
          "text": [
            "This car has 0 miles on it.\n"
          ],
          "name": "stdout"
        }
      ]
    },
    {
      "cell_type": "code",
      "metadata": {
        "id": "JJ6Mh1FmLZyw"
      },
      "source": [
        "car1.set_odometer_reading(600)"
      ],
      "execution_count": 16,
      "outputs": []
    },
    {
      "cell_type": "code",
      "metadata": {
        "id": "trCG-ua6MULX",
        "colab": {
          "base_uri": "https://localhost:8080/"
        },
        "outputId": "9b95fa80-d609-45ce-ac30-9a96dd0aa666"
      },
      "source": [
        "car1.read_odometer()"
      ],
      "execution_count": 17,
      "outputs": [
        {
          "output_type": "stream",
          "text": [
            "This car has 600 miles on it.\n"
          ],
          "name": "stdout"
        }
      ]
    },
    {
      "cell_type": "code",
      "metadata": {
        "id": "-8UIDs7ESx07"
      },
      "source": [
        ""
      ],
      "execution_count": 17,
      "outputs": []
    },
    {
      "cell_type": "markdown",
      "metadata": {
        "id": "aJnXCvQkSziL"
      },
      "source": [
        "# More on classes\r\n"
      ]
    },
    {
      "cell_type": "code",
      "metadata": {
        "id": "xDz7hXyZS4jA"
      },
      "source": [
        "class Employee():\r\n",
        "    def __init__(self, Empname, EmpAge, EmpSalary):\r\n",
        "        self.Empname = Empname\r\n",
        "        self.EmpAge = EmpAge\r\n",
        "        self.EmpSalary = EmpSalary\r\n",
        "  \r\n",
        "    def get_emp_salary(self):\r\n",
        "        print(f'your {self.EmpSalary}')\r\n",
        "    def set_emp_salary(self, sal):\r\n",
        "        self.EmpSalary = sal"
      ],
      "execution_count": 18,
      "outputs": []
    },
    {
      "cell_type": "code",
      "metadata": {
        "id": "FJyumwtQS7Mo"
      },
      "source": [
        "emp = Employee('usama', 20, 50000)"
      ],
      "execution_count": 19,
      "outputs": []
    },
    {
      "cell_type": "code",
      "metadata": {
        "colab": {
          "base_uri": "https://localhost:8080/"
        },
        "id": "tPbC_hiSTTsg",
        "outputId": "1bbf044d-e9f3-43f3-de13-db4f35a15f98"
      },
      "source": [
        "emp.get_emp_salary()"
      ],
      "execution_count": 20,
      "outputs": [
        {
          "output_type": "stream",
          "text": [
            "your 50000\n"
          ],
          "name": "stdout"
        }
      ]
    },
    {
      "cell_type": "code",
      "metadata": {
        "id": "BXBSUwEcTnQJ"
      },
      "source": [
        "emp.set_emp_salary(100000000000)"
      ],
      "execution_count": 21,
      "outputs": []
    },
    {
      "cell_type": "code",
      "metadata": {
        "colab": {
          "base_uri": "https://localhost:8080/"
        },
        "id": "rC_SugoOTPPo",
        "outputId": "76d792f8-edad-429d-8868-1aee1607ce3e"
      },
      "source": [
        "emp.get_emp_salary()"
      ],
      "execution_count": 22,
      "outputs": [
        {
          "output_type": "stream",
          "text": [
            "your 100000000000\n"
          ],
          "name": "stdout"
        }
      ]
    },
    {
      "cell_type": "code",
      "metadata": {
        "id": "dQB_qtDwT9R3"
      },
      "source": [
        "class Battery():\r\n",
        "  def __init__(self, amp, plate, manuf):\r\n",
        "    self.amp = amp\r\n",
        "    self.plate = plate\r\n",
        "    self.manuf = manuf\r\n",
        "  def get_amp(self):\r\n",
        "    return self.amp"
      ],
      "execution_count": 25,
      "outputs": []
    },
    {
      "cell_type": "code",
      "metadata": {
        "id": "snn68SlRadKM"
      },
      "source": [
        ""
      ],
      "execution_count": null,
      "outputs": []
    },
    {
      "cell_type": "markdown",
      "metadata": {
        "id": "OZFIyC5hogTn"
      },
      "source": [
        "#### The self Parameter\n",
        "The self parameter is a reference to the current instance of the class, and is used to access variables that belongs to the class.\n",
        "\n",
        "It does not have to be named self , you can call it whatever you like, but it has to be the first parameter of any function in the class"
      ]
    },
    {
      "cell_type": "code",
      "metadata": {
        "id": "Gmqvy2IyF9dn"
      },
      "source": [
        ""
      ],
      "execution_count": null,
      "outputs": []
    },
    {
      "cell_type": "markdown",
      "metadata": {
        "id": "WKD-m9BhogTo"
      },
      "source": [
        "# Inheritance in python"
      ]
    },
    {
      "cell_type": "code",
      "metadata": {
        "id": "0ubIchvgogTo"
      },
      "source": [
        "# Creating parent class\n",
        "\n",
        "class parent:\n",
        "    def __init__(self, fname, rollno):\n",
        "        self.firstname = fname;\n",
        "        self.rollNumber = rollno;\n",
        "    def printName(self):\n",
        "        print('My name is',self.firstname,'\\nand Roll number is: ',self.rollNumber);\n",
        "        \n",
        "        \n",
        "obj = parent('Usama', 2103102);\n",
        "obj.printName();\n",
        "\n",
        "        "
      ],
      "execution_count": null,
      "outputs": []
    },
    {
      "cell_type": "code",
      "metadata": {
        "id": "drysAhF5aShp"
      },
      "source": [
        "#inheriting parent class to child class.\r\n",
        "class child(parent):\r\n",
        "    pass\r\n",
        "\r\n",
        "obj = child('Usama', 4802292); # Accesing parent class method.\r\n",
        "obj.printName();"
      ],
      "execution_count": null,
      "outputs": []
    },
    {
      "cell_type": "code",
      "metadata": {
        "id": "PN4ENXIUXp8D"
      },
      "source": [
        "class ElectricCar(Car):\r\n",
        "  def __init__(self, make, model, year):\r\n",
        "    super().__init__(make, model, year)\r\n",
        "    self.battey_size = 70\r\n",
        "  def describeBattery(self):\r\n",
        "    print(f'this car has a {self.battey_size} -kwh battery.')\r\n"
      ],
      "execution_count": null,
      "outputs": []
    },
    {
      "cell_type": "code",
      "metadata": {
        "id": "Kibg33FhYzQ7"
      },
      "source": [
        "Ecar = ElectricCar('Hondaa', 'ccr22', 2017)"
      ],
      "execution_count": null,
      "outputs": []
    },
    {
      "cell_type": "code",
      "metadata": {
        "id": "PTLAhOwVZN2y"
      },
      "source": [
        "Ecar.get_descriptive_name()"
      ],
      "execution_count": null,
      "outputs": []
    },
    {
      "cell_type": "code",
      "metadata": {
        "id": "6VM2KQ_IogTo"
      },
      "source": [
        ""
      ],
      "execution_count": null,
      "outputs": []
    },
    {
      "cell_type": "markdown",
      "metadata": {
        "id": "2RKFTc-_ogTo"
      },
      "source": [
        "# Working with RegEx(regular expression)"
      ]
    },
    {
      "cell_type": "code",
      "metadata": {
        "id": "QJkWxVjYogTp"
      },
      "source": [
        "# RegEx can be used to check if a string contains the specified search pattern.\n",
        "\n",
        "import re"
      ],
      "execution_count": null,
      "outputs": []
    },
    {
      "cell_type": "markdown",
      "metadata": {
        "id": "BJ6pLM2-ogTp"
      },
      "source": [
        "## checking for string which start from \"the\" and end with \"ing\""
      ]
    },
    {
      "cell_type": "code",
      "metadata": {
        "id": "SIlzb9JIogTp"
      },
      "source": [
        "string = \"The pthon programming\";\n",
        "x = re.search(\"^The.*ing$\", string)\n",
        "if(x):\n",
        "    print(\"working\")\n",
        "else:\n",
        "    print(\"not working\")"
      ],
      "execution_count": null,
      "outputs": []
    },
    {
      "cell_type": "markdown",
      "metadata": {
        "id": "Ifnv_S8SogTp"
      },
      "source": [
        "# Find a charater or string in whole string and save the the character in a list"
      ]
    },
    {
      "cell_type": "code",
      "metadata": {
        "id": "OT7p8MtKogTp"
      },
      "source": [
        "a = re.findall(\"o\", string)\n",
        "print(a)"
      ],
      "execution_count": null,
      "outputs": []
    },
    {
      "cell_type": "markdown",
      "metadata": {
        "id": "rYoxs7a2ogTq"
      },
      "source": [
        "# The finding number of spaces in an string."
      ]
    },
    {
      "cell_type": "code",
      "metadata": {
        "id": "ri7tJOVAogTq"
      },
      "source": [
        "s = re.search(\"\\s\",string)\n",
        "print(s.start())"
      ],
      "execution_count": null,
      "outputs": []
    },
    {
      "cell_type": "markdown",
      "metadata": {
        "id": "S9TA2UAdogTq"
      },
      "source": [
        "# Seperate string into words"
      ]
    },
    {
      "cell_type": "code",
      "metadata": {
        "id": "chn9EsLbogTq"
      },
      "source": [
        "w = re.split(\"\\s\", string)\n",
        "print(w)"
      ],
      "execution_count": null,
      "outputs": []
    },
    {
      "cell_type": "markdown",
      "metadata": {
        "id": "6Fx5sUbVogTq"
      },
      "source": [
        "# Replacing the character/text with the text of your choice"
      ]
    },
    {
      "cell_type": "code",
      "metadata": {
        "id": "sw7y7lFFNXkU"
      },
      "source": [
        ""
      ],
      "execution_count": null,
      "outputs": []
    },
    {
      "cell_type": "code",
      "metadata": {
        "id": "scqI-gCSogTq"
      },
      "source": [
        "r = re.sub(\"\\s\",\"----\", string)\n",
        "print(r)"
      ],
      "execution_count": null,
      "outputs": []
    },
    {
      "cell_type": "code",
      "metadata": {
        "id": "GPrfFRSAogTr"
      },
      "source": [
        ""
      ],
      "execution_count": null,
      "outputs": []
    },
    {
      "cell_type": "code",
      "metadata": {
        "id": "GXZRiOVTNYyh"
      },
      "source": [
        ""
      ],
      "execution_count": null,
      "outputs": []
    },
    {
      "cell_type": "markdown",
      "metadata": {
        "id": "_icuOHbsNdcH"
      },
      "source": [
        "# Dictionary comprihension\n"
      ]
    },
    {
      "cell_type": "code",
      "metadata": {
        "id": "jtwK6fWFNmiz"
      },
      "source": [
        "oldPrice = {'buiryani': 150, 'tikka': 300, 'Fish': 400,'cold':200}"
      ],
      "execution_count": null,
      "outputs": []
    },
    {
      "cell_type": "code",
      "metadata": {
        "id": "9mkox0azOOD8"
      },
      "source": [
        "new_price = {item: (price/160) for item,price in oldPrice.items()}"
      ],
      "execution_count": null,
      "outputs": []
    },
    {
      "cell_type": "code",
      "metadata": {
        "id": "HyvuMxFeOwwR"
      },
      "source": [
        "new_price"
      ],
      "execution_count": null,
      "outputs": []
    },
    {
      "cell_type": "code",
      "metadata": {
        "id": "p0OAJ_ExPN27"
      },
      "source": [
        "new_price = {item: round(price/160,2) for item,price in oldPrice.items()}"
      ],
      "execution_count": null,
      "outputs": []
    },
    {
      "cell_type": "code",
      "metadata": {
        "id": "Ap--FyeSPdgb"
      },
      "source": [
        "new_price"
      ],
      "execution_count": null,
      "outputs": []
    },
    {
      "cell_type": "code",
      "metadata": {
        "id": "2m6hCD6cPeIE"
      },
      "source": [
        "#using math library\n",
        "import math"
      ],
      "execution_count": null,
      "outputs": []
    },
    {
      "cell_type": "code",
      "metadata": {
        "id": "CwtHQd_yQIdN"
      },
      "source": [
        "math.floor(12.66)"
      ],
      "execution_count": null,
      "outputs": []
    },
    {
      "cell_type": "code",
      "metadata": {
        "id": "QxehGsmSQSIE"
      },
      "source": [
        "math.ceil(12.77)"
      ],
      "execution_count": null,
      "outputs": []
    },
    {
      "cell_type": "code",
      "metadata": {
        "id": "tAIPVOnMQlM8"
      },
      "source": [
        "new_price = {item: math.ceil(price/160) for item,price in oldPrice.items()}"
      ],
      "execution_count": null,
      "outputs": []
    },
    {
      "cell_type": "code",
      "metadata": {
        "id": "ZxA3K_vJRIkT"
      },
      "source": [
        "new_price"
      ],
      "execution_count": null,
      "outputs": []
    },
    {
      "cell_type": "code",
      "metadata": {
        "id": "UOCyXnQARMBD"
      },
      "source": [
        "new_price_in_dollar = {item: (price/160) for item,price in oldPrice.items()}"
      ],
      "execution_count": null,
      "outputs": []
    },
    {
      "cell_type": "code",
      "metadata": {
        "id": "5EW_xiVtS7fY"
      },
      "source": [
        "new_price_in_dollar"
      ],
      "execution_count": null,
      "outputs": []
    },
    {
      "cell_type": "code",
      "metadata": {
        "id": "PFRl1S_yZyVY"
      },
      "source": [
        "updat_price = {item: (price/160) for item,price in oldPrice.items()}\n"
      ],
      "execution_count": null,
      "outputs": []
    },
    {
      "cell_type": "code",
      "metadata": {
        "id": "cC7F6bvAT0W1"
      },
      "source": [
        "updated_price"
      ],
      "execution_count": null,
      "outputs": []
    },
    {
      "cell_type": "code",
      "metadata": {
        "id": "Yp6odTLtT-_V"
      },
      "source": [
        "# Question: : Make a dictionary containing three major rivers and the country\n",
        "#each river runs through. One key-value pair might be 'nile': 'egypt'."
      ],
      "execution_count": null,
      "outputs": []
    },
    {
      "cell_type": "code",
      "metadata": {
        "id": "0xVC8137a3LH"
      },
      "source": [
        "rivers = {'nile': 'egypt', 'indus': 'Pakistan', 'liao': 'china'}"
      ],
      "execution_count": null,
      "outputs": []
    },
    {
      "cell_type": "code",
      "metadata": {
        "id": "7-FEiv0NbOIX"
      },
      "source": [
        "#Use a loop to print a sentence about each river, such as The Nile runs through Egypt.\n",
        "for key,val in rivers.items():\n",
        "   print(f\"The {key} runs through {val}\")"
      ],
      "execution_count": null,
      "outputs": []
    },
    {
      "cell_type": "code",
      "metadata": {
        "id": "PuSLSEBfbcYe"
      },
      "source": [
        "#Use a loop to print the name of each river included in the dictionary\n",
        "for key in rivers.keys():\n",
        "   print(f\"The name of river {key}\")\n"
      ],
      "execution_count": null,
      "outputs": []
    },
    {
      "cell_type": "code",
      "metadata": {
        "id": "NUYdl7xpbmee"
      },
      "source": [
        "#Use a loop to print the name of each country included in the dictionary\n",
        "for val in rivers.values():\n",
        "   print(f\"The name of river {val}\")"
      ],
      "execution_count": null,
      "outputs": []
    },
    {
      "cell_type": "code",
      "metadata": {
        "id": "9xJ3L3Lkchcd"
      },
      "source": [
        ""
      ],
      "execution_count": null,
      "outputs": []
    },
    {
      "cell_type": "markdown",
      "metadata": {
        "id": "qiBwuSkhdfpk"
      },
      "source": [
        "# List of list"
      ]
    },
    {
      "cell_type": "code",
      "metadata": {
        "id": "uuYhuxtmdiI3"
      },
      "source": [
        "listoflist = [[0,1,2,3,],\n",
        "              [1,2,3],\n",
        "              ['a','b','c']]"
      ],
      "execution_count": null,
      "outputs": []
    },
    {
      "cell_type": "code",
      "metadata": {
        "id": "E1v8AoQzd3dG"
      },
      "source": [
        "listoflist[-1][-1]"
      ],
      "execution_count": null,
      "outputs": []
    },
    {
      "cell_type": "code",
      "metadata": {
        "id": "kUuP_yeIeD6J"
      },
      "source": [
        ""
      ],
      "execution_count": null,
      "outputs": []
    },
    {
      "cell_type": "markdown",
      "metadata": {
        "id": "mCFupBDCfNWs"
      },
      "source": [
        "# List of Dictionary"
      ]
    },
    {
      "cell_type": "code",
      "metadata": {
        "id": "7_l97PgNfQXm"
      },
      "source": [
        "listofdic = [oldPrice, new_price, new_price_in_dollar]\n",
        "listofdic"
      ],
      "execution_count": null,
      "outputs": []
    },
    {
      "cell_type": "code",
      "metadata": {
        "id": "Ti9t-S9rfg9S"
      },
      "source": [
        "listofdic[0]['Fish']"
      ],
      "execution_count": null,
      "outputs": []
    },
    {
      "cell_type": "code",
      "metadata": {
        "id": "lgZpdJrift_n"
      },
      "source": [
        ""
      ],
      "execution_count": null,
      "outputs": []
    },
    {
      "cell_type": "markdown",
      "metadata": {
        "id": "BzmUy2PGgjn0"
      },
      "source": [
        "# Dictionary of dictionary"
      ]
    },
    {
      "cell_type": "code",
      "metadata": {
        "id": "N8ZcjpAEgn8A"
      },
      "source": [
        "dicofdic = {'saylani':\n",
        "            {'smit': ['web', 'ds', 'ccna', 'ai'],\n",
        "             'health': ['opd', 'ot']\n",
        "            },\n",
        "            'University': {\n",
        "                  'CS': ['1st', '2nd', '3rd', '4th'],\n",
        "                  'admin': ['fees', 'timetable', 'exam']\n",
        "            }\n",
        "            }"
      ],
      "execution_count": null,
      "outputs": []
    },
    {
      "cell_type": "code",
      "metadata": {
        "id": "I7QTsyzih3mA"
      },
      "source": [
        "'University' in dicofdic"
      ],
      "execution_count": null,
      "outputs": []
    },
    {
      "cell_type": "code",
      "metadata": {
        "id": "Az7DVnFjioaS"
      },
      "source": [
        "'smit' in dicofdic['saylani']"
      ],
      "execution_count": null,
      "outputs": []
    },
    {
      "cell_type": "code",
      "metadata": {
        "id": "P08Tza_bjFeo"
      },
      "source": [
        "for pk, pv in dicofdic.items():\n",
        "  if pk == 'University':\n",
        "    for uk,uv in dicofdic[pk].items():\n",
        "      if uk == 'admin':\n",
        "        print('exam' in uv)"
      ],
      "execution_count": null,
      "outputs": []
    },
    {
      "cell_type": "code",
      "metadata": {
        "id": "xJ8GiZOYlmIE"
      },
      "source": [
        "#Dictionary Question:\n",
        "#With a given integral number n, write a program to generate a dictionary that contains (i, i*i) such that is an integral number between 1 and n (both included). and then the program should print the dictionary.\n",
        "#Suppose the following input is supplied to the program:\n",
        "adict = {}\n",
        "n = int(input())\n",
        "for num in range(1,n+1):\n",
        "  adict[num] = num*num"
      ],
      "execution_count": null,
      "outputs": []
    },
    {
      "cell_type": "markdown",
      "metadata": {
        "id": "xilokJ3IgGSO"
      },
      "source": [
        ""
      ]
    },
    {
      "cell_type": "code",
      "metadata": {
        "id": "DWp1ibCZgQac"
      },
      "source": [
        "adict"
      ],
      "execution_count": null,
      "outputs": []
    },
    {
      "cell_type": "code",
      "metadata": {
        "id": "p21fkjsY03Nl"
      },
      "source": [
        ""
      ],
      "execution_count": null,
      "outputs": []
    },
    {
      "cell_type": "markdown",
      "metadata": {
        "id": "kxntRAwV-cKD"
      },
      "source": [
        "# Module"
      ]
    },
    {
      "cell_type": "code",
      "metadata": {
        "id": "4daIVw98-ec_"
      },
      "source": [
        "%run textutility.py"
      ],
      "execution_count": null,
      "outputs": []
    },
    {
      "cell_type": "code",
      "metadata": {
        "id": "x6lc4mTDPdBq"
      },
      "source": [
        "import textutility as tu"
      ],
      "execution_count": null,
      "outputs": []
    },
    {
      "cell_type": "code",
      "metadata": {
        "id": "yLPhRcdCPdBq",
        "outputId": "f9cd1330-257e-4961-9f23-5ac4742335d6"
      },
      "source": [
        "tu.remove_punctuation('Hello, world')"
      ],
      "execution_count": null,
      "outputs": [
        {
          "output_type": "execute_result",
          "data": {
            "text/plain": [
              "'Hello world'"
            ]
          },
          "metadata": {
            "tags": []
          },
          "execution_count": 3
        }
      ]
    },
    {
      "cell_type": "code",
      "metadata": {
        "id": "ADsza6URPdBr",
        "outputId": "dc53e23c-0045-4ffa-a7dc-008614d2b615"
      },
      "source": [
        "print(tu.remove_multiple_spaces('hello   world'))"
      ],
      "execution_count": null,
      "outputs": [
        {
          "output_type": "stream",
          "text": [
            "hello world\n"
          ],
          "name": "stdout"
        }
      ]
    },
    {
      "cell_type": "code",
      "metadata": {
        "id": "oqYF-BYTPdBs",
        "outputId": "aeb28758-fa84-4932-fbc5-6ddc932706dd"
      },
      "source": [
        "tu.remove_number('1212yous1212tring1123')"
      ],
      "execution_count": null,
      "outputs": [
        {
          "output_type": "execute_result",
          "data": {
            "text/plain": [
              "'youstring'"
            ]
          },
          "metadata": {
            "tags": []
          },
          "execution_count": 5
        }
      ]
    },
    {
      "cell_type": "code",
      "metadata": {
        "id": "vr8HmGsqPdBs",
        "outputId": "0f0810c0-7897-4661-dcd8-3e671e2434c0"
      },
      "source": [
        "tu.remove_repeating_charcter('yourr stringg')"
      ],
      "execution_count": null,
      "outputs": [
        {
          "output_type": "execute_result",
          "data": {
            "text/plain": [
              "'your sting'"
            ]
          },
          "metadata": {
            "tags": []
          },
          "execution_count": 6
        }
      ]
    },
    {
      "cell_type": "code",
      "metadata": {
        "id": "QN6U6m-MPdBs",
        "outputId": "bf016baa-07ae-47d0-e8be-a70a85b9794d"
      },
      "source": [
        "tu.repeating_words('the quick brown and the fox')"
      ],
      "execution_count": null,
      "outputs": [
        {
          "output_type": "stream",
          "text": [
            "\"and\" is repeated 1 time.\n",
            "\"brown\" is repeated 1 time.\n",
            "\"fox\" is repeated 1 time.\n",
            "\"quick\" is repeated 1 time.\n",
            "\"the\" is repeated 2 times.\n"
          ],
          "name": "stdout"
        }
      ]
    },
    {
      "cell_type": "code",
      "metadata": {
        "id": "OJ62MPC4PdBs",
        "outputId": "a455ed6b-ff43-4e29-d13d-4a30b8bc99ff"
      },
      "source": [
        "tu.compare_string_result('sbcd jicsds', 'sbttcd jibsds')"
      ],
      "execution_count": null,
      "outputs": [
        {
          "output_type": "execute_result",
          "data": {
            "text/plain": [
              "'the comparing elements are:  t  t  c  b'"
            ]
          },
          "metadata": {
            "tags": []
          },
          "execution_count": 8
        }
      ]
    },
    {
      "cell_type": "code",
      "metadata": {
        "id": "iYEq14p1PdBt",
        "outputId": "e557e1d3-5833-4c3c-d534-e3d9ef06bf5c"
      },
      "source": [
        "tu.check_date_format('21-02-2011')"
      ],
      "execution_count": null,
      "outputs": [
        {
          "output_type": "execute_result",
          "data": {
            "text/plain": [
              "'please enter proper format'"
            ]
          },
          "metadata": {
            "tags": []
          },
          "execution_count": 9
        }
      ]
    },
    {
      "cell_type": "code",
      "metadata": {
        "id": "DngFXPsIPdBt",
        "outputId": "568c7183-526f-4091-b5df-62f16cf9d4ad"
      },
      "source": [
        "tu.check_date_format('21/02/2011')"
      ],
      "execution_count": null,
      "outputs": [
        {
          "output_type": "execute_result",
          "data": {
            "text/plain": [
              "'21/02/2011'"
            ]
          },
          "metadata": {
            "tags": []
          },
          "execution_count": 10
        }
      ]
    },
    {
      "cell_type": "code",
      "metadata": {
        "id": "5NvNfuPCPdBt",
        "outputId": "70a3c861-7a79-4fdc-a340-50181a24898e"
      },
      "source": [
        "tu.number_of_words('the quick brown fox')"
      ],
      "execution_count": null,
      "outputs": [
        {
          "output_type": "execute_result",
          "data": {
            "text/plain": [
              "4"
            ]
          },
          "metadata": {
            "tags": []
          },
          "execution_count": 11
        }
      ]
    },
    {
      "cell_type": "code",
      "metadata": {
        "id": "3wKulhRiPdBt",
        "outputId": "098d89f4-0d45-4ee2-889a-9487f9e404a0"
      },
      "source": [
        "tu.swap_first_two_character_inString('abcd','hypd')"
      ],
      "execution_count": null,
      "outputs": [
        {
          "output_type": "execute_result",
          "data": {
            "text/plain": [
              "'hycd abpd'"
            ]
          },
          "metadata": {
            "tags": []
          },
          "execution_count": 12
        }
      ]
    },
    {
      "cell_type": "code",
      "metadata": {
        "id": "GLLXzlABPdBt",
        "outputId": "78cc867f-0c7b-41f9-8663-96edf7c628a3"
      },
      "source": [
        "tu.replace_sentance('the quick not that bad brown fox', 'not', 'bad','actually')"
      ],
      "execution_count": null,
      "outputs": [
        {
          "output_type": "execute_result",
          "data": {
            "text/plain": [
              "'the quick actually brown fox'"
            ]
          },
          "metadata": {
            "tags": []
          },
          "execution_count": 13
        }
      ]
    },
    {
      "cell_type": "markdown",
      "metadata": {
        "id": "UkakYMHVHhud"
      },
      "source": [
        "# Generators"
      ]
    },
    {
      "cell_type": "code",
      "metadata": {
        "id": "mBBiB99lHkqJ"
      },
      "source": [
        ""
      ],
      "execution_count": null,
      "outputs": []
    },
    {
      "cell_type": "markdown",
      "metadata": {
        "id": "9I33fcKqVStJ"
      },
      "source": [
        "# files & Exceptions"
      ]
    },
    {
      "cell_type": "code",
      "metadata": {
        "id": "IyM0rjYEVWR_",
        "colab": {
          "base_uri": "https://localhost:8080/"
        },
        "outputId": "fabcf041-c9c2-4f3c-be6e-ada1ef5887db"
      },
      "source": [
        "try:\r\n",
        "  a = int(input(\"Enter number: \"))\r\n",
        "  b = int(input(\"Enter number: \"))\r\n",
        "  c = a/b\r\n",
        "  print(c)\r\n",
        "except ZeroDivisionError:\r\n",
        "  print(\"zero divisoin Exception caught\")\r\n",
        "except IndexError:\r\n",
        "  print(\"Index Error divisoin Exception caught\")\r\n",
        "else:\r\n",
        "  print('nahi aai exception')"
      ],
      "execution_count": null,
      "outputs": [
        {
          "output_type": "stream",
          "text": [
            "Enter number: 1\n",
            "Enter number: 2\n",
            "0.5\n",
            "nahi aai exception\n"
          ],
          "name": "stdout"
        }
      ]
    },
    {
      "cell_type": "code",
      "metadata": {
        "colab": {
          "base_uri": "https://localhost:8080/",
          "height": 282
        },
        "id": "boq6BcABPdBu",
        "outputId": "4de1d5e2-06dd-4d60-f062-298bdeb6de5e"
      },
      "source": [
        "try:\r\n",
        "  a = int(input(\"Enter number: \"))\r\n",
        "  b = int(input(\"Enter number: \"))\r\n",
        "  c = a/b\r\n",
        "  print(c)\r\n",
        "except ZeroDivisionError:\r\n",
        "  print(\"zero divisoin Exception caught\")\r\n",
        "except IndexError:\r\n",
        "  print(\"Index Error divisoin Exception caught\")\r\n",
        "else:\r\n",
        "  print('nahi aai exception')\r\n",
        "finally: \r\n",
        "  print(\"always running\")"
      ],
      "execution_count": null,
      "outputs": [
        {
          "output_type": "stream",
          "text": [
            "Enter number: 1\n",
            "Enter number: dddd\n",
            "always running\n"
          ],
          "name": "stdout"
        },
        {
          "output_type": "error",
          "ename": "ValueError",
          "evalue": "ignored",
          "traceback": [
            "\u001b[0;31m---------------------------------------------------------------------------\u001b[0m",
            "\u001b[0;31mValueError\u001b[0m                                Traceback (most recent call last)",
            "\u001b[0;32m<ipython-input-4-7967d9b12f9d>\u001b[0m in \u001b[0;36m<module>\u001b[0;34m()\u001b[0m\n\u001b[1;32m      1\u001b[0m \u001b[0;32mtry\u001b[0m\u001b[0;34m:\u001b[0m\u001b[0;34m\u001b[0m\u001b[0;34m\u001b[0m\u001b[0m\n\u001b[1;32m      2\u001b[0m   \u001b[0ma\u001b[0m \u001b[0;34m=\u001b[0m \u001b[0mint\u001b[0m\u001b[0;34m(\u001b[0m\u001b[0minput\u001b[0m\u001b[0;34m(\u001b[0m\u001b[0;34m\"Enter number: \"\u001b[0m\u001b[0;34m)\u001b[0m\u001b[0;34m)\u001b[0m\u001b[0;34m\u001b[0m\u001b[0;34m\u001b[0m\u001b[0m\n\u001b[0;32m----> 3\u001b[0;31m   \u001b[0mb\u001b[0m \u001b[0;34m=\u001b[0m \u001b[0mint\u001b[0m\u001b[0;34m(\u001b[0m\u001b[0minput\u001b[0m\u001b[0;34m(\u001b[0m\u001b[0;34m\"Enter number: \"\u001b[0m\u001b[0;34m)\u001b[0m\u001b[0;34m)\u001b[0m\u001b[0;34m\u001b[0m\u001b[0;34m\u001b[0m\u001b[0m\n\u001b[0m\u001b[1;32m      4\u001b[0m   \u001b[0mc\u001b[0m \u001b[0;34m=\u001b[0m \u001b[0ma\u001b[0m\u001b[0;34m/\u001b[0m\u001b[0mb\u001b[0m\u001b[0;34m\u001b[0m\u001b[0;34m\u001b[0m\u001b[0m\n\u001b[1;32m      5\u001b[0m   \u001b[0mprint\u001b[0m\u001b[0;34m(\u001b[0m\u001b[0mc\u001b[0m\u001b[0;34m)\u001b[0m\u001b[0;34m\u001b[0m\u001b[0;34m\u001b[0m\u001b[0m\n",
            "\u001b[0;31mValueError\u001b[0m: invalid literal for int() with base 10: 'dddd'"
          ]
        }
      ]
    },
    {
      "cell_type": "code",
      "metadata": {
        "id": "nXVxHXf1aCpu"
      },
      "source": [
        ""
      ],
      "execution_count": null,
      "outputs": []
    }
  ]
}